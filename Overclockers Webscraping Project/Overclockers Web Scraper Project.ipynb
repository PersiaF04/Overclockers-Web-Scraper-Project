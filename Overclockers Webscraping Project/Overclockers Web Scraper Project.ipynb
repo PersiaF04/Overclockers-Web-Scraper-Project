{
 "cells": [
  {
   "cell_type": "code",
   "execution_count": 2,
   "id": "2ed597d8",
   "metadata": {},
   "outputs": [],
   "source": [
    "# import libraries\n",
    "\n",
    "from bs4 import BeautifulSoup\n",
    "import requests \n",
    "import smtplib\n",
    "import time\n",
    "import datetime\n",
    "import pandas as pd\n",
    "import datetime\n",
    "import csv\n"
   ]
  },
  {
   "cell_type": "code",
   "execution_count": null,
   "id": "92c8ced3",
   "metadata": {},
   "outputs": [],
   "source": [
    "# Connect to website\n",
    "\n",
    "URL = 'https://www.overclockers.co.uk/palit-geforce-rtx-4070-dual-oc-12gb-gddr6x-pci-express-graphics-card-gx-072-pl.html'\n",
    "\n",
    "headers ={\"User-Agent\": \"Mozilla/5.0 (Windows NT 10.0; Win64; x64) AppleWebKit/537.36 (KHTML, like Gecko) Chrome/117.0.0.0 Safari/537.36 Edg/117.0.2045.31\"}\n",
    "\n",
    "page= requests.get(URL, headers = headers)\n",
    "\n",
    "Soup1 = BeautifulSoup(page.content, \"html.parser\")\n",
    "\n",
    "Soup2= BeautifulSoup(Soup1.prettify(), \"html.parser\")\n",
    "\n",
    "# Get the title class\n",
    "titleClass = Soup2.find(class_=\"mb-0 text-normal h4 h2-md\")\n",
    "\n",
    "#Get the title within the class\n",
    "title = titleClass.text.strip()\n",
    "\n",
    "# finds the html class for the price of the product\n",
    "priceClass = Soup2.find(class_=\"price__amount\")\n",
    "\n",
    "#strips the price from the class\n",
    "price= priceClass.text.strip()\n",
    "\n",
    "#stripping the £ sign\n",
    "price = price.strip()[1:]\n",
    "today = datetime.date.today()\n",
    "header = ['Title','Price','Date']\n",
    "data = [title, price,today]\n",
    "\n",
    "type(data)\n",
    "\n",
    "with open('OverclockersWebScraperDataset.csv', 'w', newline='', encoding='UTF8') as f:\n",
    "    writer = csv.writer(f)\n",
    "    writer.writerow(header)\n",
    "    writer.writerow(data)"
   ]
  },
  {
   "cell_type": "code",
   "execution_count": 7,
   "id": "e686aab2",
   "metadata": {},
   "outputs": [],
   "source": [
    "def check_price():\n",
    "    URL = 'https://www.overclockers.co.uk/palit-geforce-rtx-4070-dual-oc-12gb-gddr6x-pci-express-graphics-card-gx-072-pl.html'\n",
    "\n",
    "    headers ={\"User-Agent\": \"Mozilla/5.0 (Windows NT 10.0; Win64; x64) AppleWebKit/537.36 (KHTML, like Gecko) Chrome/117.0.0.0 Safari/537.36 Edg/117.0.2045.31\"}\n",
    "\n",
    "    page= requests.get(URL, headers = headers)\n",
    "\n",
    "    Soup1 = BeautifulSoup(page.content, \"html.parser\")\n",
    "\n",
    "    Soup2= BeautifulSoup(Soup1.prettify(), \"html.parser\")\n",
    "\n",
    "    # Get the title class\n",
    "    titleClass = Soup2.find(class_=\"mb-0 text-normal h4 h2-md\")\n",
    "\n",
    "    #Get the title within the class\n",
    "    title = titleClass.text.strip()\n",
    "\n",
    "    priceClass = Soup2.find(class_=\"price__amount\")\n",
    "\n",
    "    price= priceClass.text.strip()\n",
    "    \n",
    "    #stripping the £ sign\n",
    "    price = price.strip()[1:]\n",
    "    \n",
    "    today = datetime.date.today()\n",
    "    \n",
    "    header = ['Title','Price','Date']\n",
    "    \n",
    "    data = [title, price,today]\n",
    "    # append to existing csv file with the same product and the price \n",
    "    with open('OverclockersWebScraperDataset.csv', 'a+', newline='', encoding='UTF8') as f:\n",
    "        writer = csv.writer(f)\n",
    "        writer.writerow(data)\n",
    "        #if the price of the product falls below 500, trigger send_mail function\n",
    "    if(price < 500):\n",
    "        send_mail()"
   ]
  },
  {
   "cell_type": "code",
   "execution_count": null,
   "id": "92401240",
   "metadata": {},
   "outputs": [],
   "source": [
    "#Use the function check_price() once per day\n",
    "while(True):\n",
    "    check_price()\n",
    "    time.sleep(86400) \n",
    "    "
   ]
  },
  {
   "cell_type": "code",
   "execution_count": 3,
   "id": "fdbf1333",
   "metadata": {},
   "outputs": [
    {
     "name": "stdout",
     "output_type": "stream",
     "text": [
      "                                               Title   Price        Date\n",
      "0  Palit GeForce RTX 4070 Dual OC 12GB GDDR6X PCI...  589.99  2023-09-20\n",
      "1  Palit GeForce RTX 4070 Dual OC 12GB GDDR6X PCI...  589.99  2023-09-20\n",
      "2  Palit GeForce RTX 4070 Dual OC 12GB GDDR6X PCI...  589.99  2023-09-20\n",
      "3  Palit GeForce RTX 4070 Dual OC 12GB GDDR6X PCI...  589.99  2023-09-20\n",
      "4  Palit GeForce RTX 4070 Dual OC 12GB GDDR6X PCI...  589.99  2023-09-20\n",
      "5  Palit GeForce RTX 4070 Dual OC 12GB GDDR6X PCI...  589.99  2023-09-20\n",
      "6  Palit GeForce RTX 4070 Dual OC 12GB GDDR6X PCI...  589.99  2023-09-20\n"
     ]
    }
   ],
   "source": [
    "df = pd.read_csv(\"C:\\\\Users\\\\persi\\\\OneDrive\\\\Desktop\\\\Overclockers Webscraping Project\\\\OverclockersWebScraperDataset.csv\")\n",
    "\n",
    "print(df)"
   ]
  },
  {
   "cell_type": "code",
   "execution_count": null,
   "id": "aaa963de",
   "metadata": {},
   "outputs": [],
   "source": [
    "def send_mail():\n",
    "    server = smtplip.SMTP_SSL('smtp.gmail.com',465)\n",
    "    server.ehlo()\n",
    "    server.login('persialewis123@gmail.com','******')\n",
    "    \n",
    "    subject = \"The GPU price has gone down!\"\n",
    "    body = \"Check the website for the new update price\"\n",
    "    \n",
    "    msg = f\"Subject: {subject}\\n\\n{body}\"\n",
    "    \n",
    "    server.sendmail(\n",
    "        'persialewis123@gmail.com',\n",
    "        msg\n",
    "    )"
   ]
  }
 ],
 "metadata": {
  "kernelspec": {
   "display_name": "Python 3 (ipykernel)",
   "language": "python",
   "name": "python3"
  },
  "language_info": {
   "codemirror_mode": {
    "name": "ipython",
    "version": 3
   },
   "file_extension": ".py",
   "mimetype": "text/x-python",
   "name": "python",
   "nbconvert_exporter": "python",
   "pygments_lexer": "ipython3",
   "version": "3.9.13"
  }
 },
 "nbformat": 4,
 "nbformat_minor": 5
}
